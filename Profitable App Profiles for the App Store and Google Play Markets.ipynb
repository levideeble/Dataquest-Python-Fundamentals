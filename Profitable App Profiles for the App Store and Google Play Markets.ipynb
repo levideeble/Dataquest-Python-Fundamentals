{
 "cells": [
  {
   "cell_type": "markdown",
   "id": "79ac3f41",
   "metadata": {},
   "source": [
    "# Profitable App profiles for the App Store and Google Play Markets\n",
    "\n",
    "Many apps are free to download and install. Therefore, their main source of revenue consists of in-app ads. This means the revenue for any given free app is mostly influenced by the number of users - the more users that see and engage with the ads, the better.\n",
    "\n",
    "Our goal in this project is to analyse data from the Apple App Store and Google Play Markets to help developers understand what type of free apps are likely to attract more users. We will do so only for apps that are free and directed towards an English-speaking audience.\n",
    "\n",
    "## Opening and Exploring the Data\n",
    "\n",
    "As of September 2018, there were approximately 2 million iOS apps available on the App Store, and 2.1 million Android apps on Google Play.\n",
    "Collecting data for over 4 million apps requires a significant amount of time and money, so we'll try to analyze a sample of the data instead. To avoid spending resources on collecting new data ourselves, we have found existing relevant data at no cost:\n",
    "\n",
    "- [A data set](https://www.kaggle.com/ramamet4/app-store-apple-data-set-10k-apps) from Apple's App Store, which can be downloaded directly [here.](https://www.kaggle.com/ramamet4/app-store-apple-data-set-10k-apps/download)\n",
    "- [A data set](https://www.kaggle.com/lava18/google-play-store-apps) from Google Play Store, which can be downloaded directly [here.](https://www.kaggle.com/lava18/google-play-store-apps/download)\n",
    "\n",
    "Let's start by opening and expoloring our data sets.\n"
   ]
  },
  {
   "cell_type": "code",
   "execution_count": 1,
   "id": "e3f4527b",
   "metadata": {},
   "outputs": [],
   "source": [
    "from csv import reader\n",
    "\n",
    "# App Store data set\n",
    "opened_file = open('AppleStore.csv', encoding='utf8')\n",
    "read_file = reader(opened_file)\n",
    "ios = list(read_file)\n",
    "ios_header = ios[0]\n",
    "ios = ios[1:]\n",
    "opened_file.close()\n",
    "\n",
    "# Google Play data set\n",
    "opened_file = open('googleplaystore.csv', encoding='utf8')\n",
    "read_file = reader(opened_file)\n",
    "android = list(read_file)\n",
    "android_header = android[0]\n",
    "android = android[1:]\n",
    "opened_file.close()"
   ]
  },
  {
   "cell_type": "markdown",
   "id": "3d9c82b7",
   "metadata": {},
   "source": [
    "To make it easier to get a feel for our data sets, we will create a function named `explore_data` that allows us to repeatedly print samples of our data in a readable way. We will also include an option to show the number of rows and columns within any dataset."
   ]
  },
  {
   "cell_type": "code",
   "execution_count": 2,
   "id": "1bdb57eb",
   "metadata": {},
   "outputs": [],
   "source": [
    "def explore_data(dataset: list, start: int, end: int, rows_and_columns=False):\n",
    "    dataset_slice = dataset[start:end]    \n",
    "    for row in dataset_slice:\n",
    "        print(row)\n",
    "        print('\\n') # adds a new (empty) line after each row\n",
    "\n",
    "    if rows_and_columns:\n",
    "        print('Number of rows:', len(dataset))\n",
    "        print('Number of columns:', len(dataset[0]))"
   ]
  },
  {
   "cell_type": "markdown",
   "id": "02aa600f",
   "metadata": {},
   "source": [
    "Now, let's print the header row along with the first few data rows from both the App Store and Google Play Store data sets. "
   ]
  },
  {
   "cell_type": "code",
   "execution_count": 3,
   "id": "d6e9e8a0",
   "metadata": {},
   "outputs": [
    {
     "name": "stdout",
     "output_type": "stream",
     "text": [
      "['id', 'track_name', 'size_bytes', 'currency', 'price', 'rating_count_tot', 'rating_count_ver', 'user_rating', 'user_rating_ver', 'ver', 'cont_rating', 'prime_genre', 'sup_devices.num', 'ipadSc_urls.num', 'lang.num', 'vpp_lic']\n",
      "\n",
      "\n",
      "['284882215', 'Facebook', '389879808', 'USD', '0.0', '2974676', '212', '3.5', '3.5', '95.0', '4+', 'Social Networking', '37', '1', '29', '1']\n",
      "\n",
      "\n",
      "['389801252', 'Instagram', '113954816', 'USD', '0.0', '2161558', '1289', '4.5', '4.0', '10.23', '12+', 'Photo & Video', '37', '0', '29', '1']\n",
      "\n",
      "\n",
      "['529479190', 'Clash of Clans', '116476928', 'USD', '0.0', '2130805', '579', '4.5', '4.5', '9.24.12', '9+', 'Games', '38', '5', '18', '1']\n",
      "\n",
      "\n",
      "Number of rows: 7197\n",
      "Number of columns: 16\n"
     ]
    }
   ],
   "source": [
    "print(ios_header)\n",
    "print('\\n')\n",
    "explore_data(ios, 0, 3, rows_and_columns=True)"
   ]
  },
  {
   "cell_type": "markdown",
   "id": "9d1d1365",
   "metadata": {},
   "source": [
    "We can see that the App Store data set has 7,197 rows and 16 columns. At first glance, the columns that could help us with our analysis are `track_name`, `currency`, `price`, `rating_count_tot`, `user_rating`, `cont_rating` and `prime_genre`.\n",
    "\n",
    "Not all column names are self-explanitory, so this [documentation](https://www.kaggle.com/ramamet4/app-store-apple-data-set-10k-apps) may help."
   ]
  },
  {
   "cell_type": "code",
   "execution_count": 4,
   "id": "61b12dc4",
   "metadata": {
    "scrolled": false
   },
   "outputs": [
    {
     "name": "stdout",
     "output_type": "stream",
     "text": [
      "['App', 'Category', 'Rating', 'Reviews', 'Size', 'Installs', 'Type', 'Price', 'Content Rating', 'Genres', 'Last Updated', 'Current Ver', 'Android Ver']\n",
      "\n",
      "\n",
      "['Photo Editor & Candy Camera & Grid & ScrapBook', 'ART_AND_DESIGN', '4.1', '159', '19M', '10,000+', 'Free', '0', 'Everyone', 'Art & Design', 'January 7, 2018', '1.0.0', '4.0.3 and up']\n",
      "\n",
      "\n",
      "['Coloring book moana', 'ART_AND_DESIGN', '3.9', '967', '14M', '500,000+', 'Free', '0', 'Everyone', 'Art & Design;Pretend Play', 'January 15, 2018', '2.0.0', '4.0.3 and up']\n",
      "\n",
      "\n",
      "['U Launcher Lite – FREE Live Cool Themes, Hide Apps', 'ART_AND_DESIGN', '4.7', '87510', '8.7M', '5,000,000+', 'Free', '0', 'Everyone', 'Art & Design', 'August 1, 2018', '1.2.4', '4.0.3 and up']\n",
      "\n",
      "\n",
      "Number of rows: 10841\n",
      "Number of columns: 13\n"
     ]
    }
   ],
   "source": [
    "print(android_header)\n",
    "print('\\n')\n",
    "explore_data(android, 0, 3, rows_and_columns=True)"
   ]
  },
  {
   "cell_type": "markdown",
   "id": "470f7d91",
   "metadata": {},
   "source": [
    "We can see that the Google Play Store data set has 10,841 rows and 13 columns. At first glance, the columns that could help us with our analysis are `App`, `Category`, `Rating`, `Installs`, `Price`, `Content Rating` and `Genres`."
   ]
  },
  {
   "cell_type": "markdown",
   "id": "05bddbd6",
   "metadata": {},
   "source": [
    "# Deleting Wrong Data\n",
    "\n",
    "Before beginning our analysis, we need to make sure the data we analyse is accurate. Otherwise, the results of our analysis will be wrong.\n",
    "In order to clean our data, we need to:\n",
    "\n",
    "- Detect inaccurate data, and correct or remove it\n",
    "- Detect duplicate data, and remove the duplicates\n",
    "\n",
    "As we are also only carrying out our analysis on free apps that are directed towards an English-speaking audience, we need to ensure all rows of data we focus on reflect this.\n",
    "\n",
    "The Google Play Store data set has a dedicated [discussion section](https://www.kaggle.com/lava18/google-play-store-apps/discussion), and we can see that [one of the discussions](https://www.kaggle.com/lava18/google-play-store-apps/discussion/66015) highlights an error with row 10472, where a datapoint is missing and a column shift happened as a result.\n",
    "\n",
    "Let's print this row to check the data ourselves."
   ]
  },
  {
   "cell_type": "code",
   "execution_count": 5,
   "id": "bf129038",
   "metadata": {
    "scrolled": true
   },
   "outputs": [
    {
     "name": "stdout",
     "output_type": "stream",
     "text": [
      "['App', 'Category', 'Rating', 'Reviews', 'Size', 'Installs', 'Type', 'Price', 'Content Rating', 'Genres', 'Last Updated', 'Current Ver', 'Android Ver']\n",
      "\n",
      "\n",
      "['Life Made WI-Fi Touchscreen Photo Frame', '1.9', '19', '3.0M', '1,000+', 'Free', '0', 'Everyone', '', 'February 11, 2018', '1.0.19', '4.0 and up']\n",
      "\n",
      "\n",
      "['Photo Editor & Candy Camera & Grid & ScrapBook', 'ART_AND_DESIGN', '4.1', '159', '19M', '10,000+', 'Free', '0', 'Everyone', 'Art & Design', 'January 7, 2018', '1.0.0', '4.0.3 and up']\n"
     ]
    }
   ],
   "source": [
    "print(android_header)\n",
    "print('\\n')\n",
    "print(android[10472]) # Incorrect row\n",
    "print('\\n')\n",
    "print(android[0]) # Row we know to be correct"
   ]
  },
  {
   "cell_type": "markdown",
   "id": "eda9a9f4",
   "metadata": {},
   "source": [
    "We can see this row is indeed missing a column as there are only 12 (The Google Play Store Data set has 13). If we compare this row to the one we know to be correct, it is clear the `Category` column is missing.\n",
    "\n",
    "We will delete the incorrect row to ensure it doesn't affect our analysis."
   ]
  },
  {
   "cell_type": "code",
   "execution_count": 6,
   "id": "dde08ded",
   "metadata": {},
   "outputs": [
    {
     "name": "stdout",
     "output_type": "stream",
     "text": [
      "10841\n",
      "10840\n"
     ]
    }
   ],
   "source": [
    "print(len(android))\n",
    "del android[10472]\n",
    "print(len(android))"
   ]
  },
  {
   "cell_type": "markdown",
   "id": "d18cdc5f",
   "metadata": {},
   "source": [
    "# Removing Duplicate Entries\n",
    "\n",
    "## Part One\n",
    "\n",
    "The Google Play data set may have duplicate entries. We will write code to find out which apps, if any, have duplicate entries and how many apps this affects."
   ]
  },
  {
   "cell_type": "code",
   "execution_count": 7,
   "id": "83cd8017",
   "metadata": {},
   "outputs": [
    {
     "name": "stdout",
     "output_type": "stream",
     "text": [
      "['Quick PDF Scanner + OCR FREE', 'Box', 'Google My Business', 'ZOOM Cloud Meetings', 'join.me - Simple Meetings']\n",
      "\n",
      "\n",
      "1181\n"
     ]
    }
   ],
   "source": [
    "unique_apps = []\n",
    "duplicate_apps = []\n",
    "\n",
    "for app in android:\n",
    "    name = app[0]\n",
    "    if name in unique_apps:\n",
    "        duplicate_apps.append(name) # If the name is a duplicate of an entry in unique_apps, add it do the duplicate_apps list\n",
    "    else:\n",
    "        unique_apps.append(name) # If the name has not occured before, add to the unique_apps list\n",
    "\n",
    "print(duplicate_apps[:5])\n",
    "print('\\n')\n",
    "print(len(duplicate_apps))\n"
   ]
  },
  {
   "cell_type": "markdown",
   "id": "382ebe55",
   "metadata": {},
   "source": [
    "The Google Play data set has 1,181 duplicate entries. Let's have a closer look at the duplicate rows for 'Quick PDF Scanner + OCR FREE'."
   ]
  },
  {
   "cell_type": "code",
   "execution_count": 8,
   "id": "f40c2ce1",
   "metadata": {
    "scrolled": true
   },
   "outputs": [
    {
     "name": "stdout",
     "output_type": "stream",
     "text": [
      "['Quick PDF Scanner + OCR FREE', 'BUSINESS', '4.2', '80805', 'Varies with device', '5,000,000+', 'Free', '0', 'Everyone', 'Business', 'February 26, 2018', 'Varies with device', '4.0.3 and up']\n",
      "['Quick PDF Scanner + OCR FREE', 'BUSINESS', '4.2', '80805', 'Varies with device', '5,000,000+', 'Free', '0', 'Everyone', 'Business', 'February 26, 2018', 'Varies with device', '4.0.3 and up']\n",
      "['Quick PDF Scanner + OCR FREE', 'BUSINESS', '4.2', '80804', 'Varies with device', '5,000,000+', 'Free', '0', 'Everyone', 'Business', 'February 26, 2018', 'Varies with device', '4.0.3 and up']\n"
     ]
    }
   ],
   "source": [
    "for app in android:\n",
    "    name = app[0]\n",
    "    if name == 'Quick PDF Scanner + OCR FREE':\n",
    "        print(app)"
   ]
  },
  {
   "cell_type": "markdown",
   "id": "42cb1d1f",
   "metadata": {},
   "source": [
    "We can see that the difference between the sample rows is the fourth column, which corresponds to the number of reviews. As we wish to work with the rows that include the richest data, we will not remove the duplicates randomly. Instead, we will keep the entry with the highest number of reviews as the average rating will be more accurate.\n",
    "\n",
    "In order to delete the duplicate entries, we will:\n",
    "\n",
    "- Create a dictionary, where each dictionary key is a unique app name and the corresponding dictionary value is the highest number of reviews of that app.\n",
    "\n",
    "- Use the information stored in the dictionary and create a new data set, which will have only one entry per app (and for each app, we'll only select the entry with the highest number of reviews).\n",
    "\n",
    "## Part Two\n",
    "\n",
    "Let's start by creating the dictionary `reviews_max`"
   ]
  },
  {
   "cell_type": "code",
   "execution_count": 9,
   "id": "d7c5a83c",
   "metadata": {},
   "outputs": [],
   "source": [
    "reviews_max = {}\n",
    "\n",
    "for app in android:\n",
    "    name = app[0]\n",
    "    n_reviews = float(app[3])\n",
    "    \n",
    "    if name in reviews_max and reviews_max[name] < n_reviews:\n",
    "        reviews_max[name] = n_reviews\n",
    "        \n",
    "    elif name not in reviews_max:\n",
    "        reviews_max[name] = n_reviews\n",
    "        "
   ]
  },
  {
   "cell_type": "markdown",
   "id": "01ff19f0",
   "metadata": {},
   "source": [
    "Let's check that the length of `reviews_max` matches the expected length when we deduct the 1,181 duplicate entries."
   ]
  },
  {
   "cell_type": "code",
   "execution_count": 10,
   "id": "f1890230",
   "metadata": {},
   "outputs": [
    {
     "name": "stdout",
     "output_type": "stream",
     "text": [
      "Expected length:  9659\n",
      "Actual length:  9659\n"
     ]
    }
   ],
   "source": [
    "print('Expected length: ', len(android) - 1181)\n",
    "print('Actual length: ', len(reviews_max))"
   ]
  },
  {
   "cell_type": "markdown",
   "id": "f86bea1f",
   "metadata": {},
   "source": [
    "Now, let's use `reviews_max` to remove duplicate entries. In the case of duplicates, we'll only keep the entry with the highest number of reviews. In the code cell below:\n",
    "\n",
    "- We'll start by initialising two empty lists: `android_clean` and `already_added`\n",
    "- We'll then loop through the Google Play data set and for each iteration:\n",
    "    - Isolate the name of the app and number of reviews\n",
    "    - If the number of reviews is the same as the number of maximum reviews for the app (found in the `reviews_max` dictionary) **and** the name is not already in the list `already_added`:\n",
    "        - We'll add the entire row to the `android_clean` list and;\n",
    "        - Add the name to the `already_added` list, the purpose of which is to make sure we don't add duplicate entries where more than one entry for an app has the maximum reviews number.\n"
   ]
  },
  {
   "cell_type": "code",
   "execution_count": 11,
   "id": "96b59293",
   "metadata": {},
   "outputs": [],
   "source": [
    "android_clean = []\n",
    "already_added = []\n",
    "\n",
    "for app in android:\n",
    "    name = app[0]\n",
    "    n_reviews = float(app[3])\n",
    "    \n",
    "    if name not in already_added and n_reviews == reviews_max[name]:\n",
    "        android_clean.append(app)\n",
    "        already_added.append(name)"
   ]
  },
  {
   "cell_type": "markdown",
   "id": "9f1de96c",
   "metadata": {},
   "source": [
    "Now let's quickly explore the new data set and make sure the number of rows matches the expected length, 9,659."
   ]
  },
  {
   "cell_type": "code",
   "execution_count": 12,
   "id": "e661b5f1",
   "metadata": {},
   "outputs": [
    {
     "name": "stdout",
     "output_type": "stream",
     "text": [
      "['Photo Editor & Candy Camera & Grid & ScrapBook', 'ART_AND_DESIGN', '4.1', '159', '19M', '10,000+', 'Free', '0', 'Everyone', 'Art & Design', 'January 7, 2018', '1.0.0', '4.0.3 and up']\n",
      "\n",
      "\n",
      "['U Launcher Lite – FREE Live Cool Themes, Hide Apps', 'ART_AND_DESIGN', '4.7', '87510', '8.7M', '5,000,000+', 'Free', '0', 'Everyone', 'Art & Design', 'August 1, 2018', '1.2.4', '4.0.3 and up']\n",
      "\n",
      "\n",
      "['Sketch - Draw & Paint', 'ART_AND_DESIGN', '4.5', '215644', '25M', '50,000,000+', 'Free', '0', 'Teen', 'Art & Design', 'June 8, 2018', 'Varies with device', '4.2 and up']\n",
      "\n",
      "\n",
      "Number of rows: 9659\n",
      "Number of columns: 13\n"
     ]
    }
   ],
   "source": [
    "explore_data(android_clean, 0, 3, True)"
   ]
  },
  {
   "cell_type": "markdown",
   "id": "d4ea6a8b",
   "metadata": {},
   "source": [
    "We know our code works as intended, so let's do the same for the App Store data set. Recall from the [documentation](https://www.kaggle.com/ramamet4/app-store-apple-data-set-10k-apps) that the columns we need are `track_name` (index 1) and `rating_count_tot` (index 5)."
   ]
  },
  {
   "cell_type": "code",
   "execution_count": 13,
   "id": "8bb3392b",
   "metadata": {},
   "outputs": [],
   "source": [
    "# Overwrite the reviews_max dictionary with the results from the App Store data set.\n",
    "reviews_max = {}\n",
    "\n",
    "for app in ios:\n",
    "    name = app[1]\n",
    "    n_reviews = float(app[5])\n",
    "    \n",
    "    if name in reviews_max and reviews_max[name] < n_reviews:\n",
    "        reviews_max[name] = n_reviews\n",
    "        \n",
    "    elif name not in reviews_max:\n",
    "        reviews_max[name] = n_reviews\n",
    "\n",
    "# Create a new cleaned data set for ios\n",
    "ios_clean = []\n",
    "already_added = []\n",
    "\n",
    "for app in ios:\n",
    "    name = app[1]\n",
    "    n_reviews = float(app[5])\n",
    "    \n",
    "    if name not in already_added and n_reviews == reviews_max[name]:\n",
    "        ios_clean.append(app)\n",
    "        already_added.append(name)"
   ]
  },
  {
   "cell_type": "markdown",
   "id": "6ff4a28d",
   "metadata": {},
   "source": [
    "# Removing Non-English Apps\n",
    "\n",
    "## Part One\n",
    "\n",
    "Remember, we'd like to analyse only the apps that are directed towards an English-speaking audience. However, it is possible that both the App Store and Google Play Store data sets have apps with names that contain characters which are not commonly used in English text. This would suggest that they are not directed to an English-speaking audience.\n",
    "\n",
    "We're not interested in keeping these apps, so we'll remove them.\n",
    "\n",
    "Each string character has a corresponding encoding number that's associated with it behind the scenes. We can find out these numbers by using the built-in `ord()` function.\n",
    "All characters that are specific to English text are encoded using the [ASCII](https://en.wikipedia.org/wiki/ASCII) system. Each ASCII character has an ecoding number associated with it between the range 0 to 127.\n",
    "\n",
    "Below, we'll build a function that takes an app name and ascertains whether it contains any non-ASCII characters."
   ]
  },
  {
   "cell_type": "code",
   "execution_count": 14,
   "id": "c7cd7d56",
   "metadata": {},
   "outputs": [],
   "source": [
    "def is_english(string: str):\n",
    "    \n",
    "    for character in string:\n",
    "        if ord(character) > 127:\n",
    "            return False\n",
    "        \n",
    "    return True\n",
    "        "
   ]
  },
  {
   "cell_type": "markdown",
   "id": "71a016f7",
   "metadata": {},
   "source": [
    "Let's check that our function works by passing through some test strings."
   ]
  },
  {
   "cell_type": "code",
   "execution_count": 15,
   "id": "b3ff5202",
   "metadata": {},
   "outputs": [
    {
     "name": "stdout",
     "output_type": "stream",
     "text": [
      "True\n",
      "False\n",
      "False\n",
      "False\n"
     ]
    }
   ],
   "source": [
    "print(is_english('Instagram'))\n",
    "print(is_english('爱奇艺PPS -《欢乐颂2》电视剧热播'))\n",
    "print(is_english('Docs To Go™ Free Office Suite'))\n",
    "print(is_english('Instachat 😜'))"
   ]
  },
  {
   "cell_type": "markdown",
   "id": "68de3d36",
   "metadata": {},
   "source": [
    "The `is_english` function that we created does detect none-English characters. However, as we can see, it couldn't correctly identify certain English app names that use non-ASCII symbols or emojis.\n",
    "If we use the function in it's current form, we may lose useful data.\n",
    "\n",
    "## Part Two\n",
    "\n",
    "To minimize data loss, we'll modify the function to only lable a string as non-English if it contains more than three non-ASCII characters."
   ]
  },
  {
   "cell_type": "code",
   "execution_count": 16,
   "id": "74a84149",
   "metadata": {},
   "outputs": [
    {
     "name": "stdout",
     "output_type": "stream",
     "text": [
      "False\n",
      "True\n",
      "True\n"
     ]
    }
   ],
   "source": [
    "def is_english(string: str):\n",
    "    \n",
    "    non_english = 0\n",
    "    \n",
    "    for character in string:\n",
    "        if ord(character) > 127:\n",
    "            non_english += 1\n",
    "        \n",
    "    if non_english > 3:\n",
    "        return False\n",
    "            \n",
    "    return True\n",
    "\n",
    "print(is_english('爱奇艺PPS -《欢乐颂2》电视剧热播'))\n",
    "print(is_english('Docs To Go™ Free Office Suite'))\n",
    "print(is_english('Instachat 😜'))"
   ]
  },
  {
   "cell_type": "markdown",
   "id": "c316fe3e",
   "metadata": {},
   "source": [
    "While the function isn't perfect, and a few non-English apps may get past our filter, it has now correctly labelled the two English app names in our test.\n",
    "\n",
    "So, we'll use the function to filter out non-English apps from both our data sets."
   ]
  },
  {
   "cell_type": "code",
   "execution_count": 17,
   "id": "789ad502",
   "metadata": {},
   "outputs": [
    {
     "name": "stdout",
     "output_type": "stream",
     "text": [
      "['Photo Editor & Candy Camera & Grid & ScrapBook', 'ART_AND_DESIGN', '4.1', '159', '19M', '10,000+', 'Free', '0', 'Everyone', 'Art & Design', 'January 7, 2018', '1.0.0', '4.0.3 and up']\n",
      "\n",
      "\n",
      "['U Launcher Lite – FREE Live Cool Themes, Hide Apps', 'ART_AND_DESIGN', '4.7', '87510', '8.7M', '5,000,000+', 'Free', '0', 'Everyone', 'Art & Design', 'August 1, 2018', '1.2.4', '4.0.3 and up']\n",
      "\n",
      "\n",
      "['Sketch - Draw & Paint', 'ART_AND_DESIGN', '4.5', '215644', '25M', '50,000,000+', 'Free', '0', 'Teen', 'Art & Design', 'June 8, 2018', 'Varies with device', '4.2 and up']\n",
      "\n",
      "\n",
      "Number of rows: 9614\n",
      "Number of columns: 13\n",
      "\n",
      "\n",
      "['284882215', 'Facebook', '389879808', 'USD', '0.0', '2974676', '212', '3.5', '3.5', '95.0', '4+', 'Social Networking', '37', '1', '29', '1']\n",
      "\n",
      "\n",
      "['389801252', 'Instagram', '113954816', 'USD', '0.0', '2161558', '1289', '4.5', '4.0', '10.23', '12+', 'Photo & Video', '37', '0', '29', '1']\n",
      "\n",
      "\n",
      "['529479190', 'Clash of Clans', '116476928', 'USD', '0.0', '2130805', '579', '4.5', '4.5', '9.24.12', '9+', 'Games', '38', '5', '18', '1']\n",
      "\n",
      "\n",
      "Number of rows: 6181\n",
      "Number of columns: 16\n"
     ]
    }
   ],
   "source": [
    "android_english = []\n",
    "ios_english = []\n",
    "\n",
    "for app in android_clean:\n",
    "    name = app[0]\n",
    "    if is_english(name):\n",
    "        android_english.append(app)\n",
    "        \n",
    "for app in ios_clean:\n",
    "    name = app[1]\n",
    "    if is_english(name):\n",
    "        ios_english.append(app)\n",
    "        \n",
    "explore_data(android_english, 0, 3, True)\n",
    "print('\\n')\n",
    "explore_data(ios_english, 0, 3, True)"
   ]
  },
  {
   "cell_type": "markdown",
   "id": "4c59f7f6",
   "metadata": {},
   "source": [
    "We can see that we are left with 9,614 android apps and 6,181 IOS apps.\n",
    "\n",
    "# Isolating the Free Apps\n",
    "\n",
    "Our data sets contain both free and non-free apps; we'll isolate only the free apps for our analysis."
   ]
  },
  {
   "cell_type": "code",
   "execution_count": 18,
   "id": "1b7f757a",
   "metadata": {},
   "outputs": [
    {
     "name": "stdout",
     "output_type": "stream",
     "text": [
      "['App', 'Category', 'Rating', 'Reviews', 'Size', 'Installs', 'Type', 'Price', 'Content Rating', 'Genres', 'Last Updated', 'Current Ver', 'Android Ver']\n",
      "\n",
      "\n",
      "['id', 'track_name', 'size_bytes', 'currency', 'price', 'rating_count_tot', 'rating_count_ver', 'user_rating', 'user_rating_ver', 'ver', 'cont_rating', 'prime_genre', 'sup_devices.num', 'ipadSc_urls.num', 'lang.num', 'vpp_lic']\n"
     ]
    }
   ],
   "source": [
    "print(android_header)\n",
    "print('\\n')\n",
    "print(ios_header)"
   ]
  },
  {
   "cell_type": "code",
   "execution_count": 19,
   "id": "f9135329",
   "metadata": {},
   "outputs": [
    {
     "name": "stdout",
     "output_type": "stream",
     "text": [
      "['Photo Editor & Candy Camera & Grid & ScrapBook', 'ART_AND_DESIGN', '4.1', '159', '19M', '10,000+', 'Free', '0', 'Everyone', 'Art & Design', 'January 7, 2018', '1.0.0', '4.0.3 and up']\n",
      "\n",
      "\n",
      "['U Launcher Lite – FREE Live Cool Themes, Hide Apps', 'ART_AND_DESIGN', '4.7', '87510', '8.7M', '5,000,000+', 'Free', '0', 'Everyone', 'Art & Design', 'August 1, 2018', '1.2.4', '4.0.3 and up']\n",
      "\n",
      "\n",
      "['Sketch - Draw & Paint', 'ART_AND_DESIGN', '4.5', '215644', '25M', '50,000,000+', 'Free', '0', 'Teen', 'Art & Design', 'June 8, 2018', 'Varies with device', '4.2 and up']\n",
      "\n",
      "\n",
      "Number of rows: 8864\n",
      "Number of columns: 13\n",
      "\n",
      "\n",
      "['284882215', 'Facebook', '389879808', 'USD', '0.0', '2974676', '212', '3.5', '3.5', '95.0', '4+', 'Social Networking', '37', '1', '29', '1']\n",
      "\n",
      "\n",
      "['389801252', 'Instagram', '113954816', 'USD', '0.0', '2161558', '1289', '4.5', '4.0', '10.23', '12+', 'Photo & Video', '37', '0', '29', '1']\n",
      "\n",
      "\n",
      "['529479190', 'Clash of Clans', '116476928', 'USD', '0.0', '2130805', '579', '4.5', '4.5', '9.24.12', '9+', 'Games', '38', '5', '18', '1']\n",
      "\n",
      "\n",
      "Number of rows: 3220\n",
      "Number of columns: 16\n"
     ]
    }
   ],
   "source": [
    "android_final = []\n",
    "ios_final = []\n",
    "\n",
    "for app in android_english:\n",
    "    price = app[7]\n",
    "    if price == '0':\n",
    "        android_final.append(app)\n",
    "        \n",
    "for app in ios_english:\n",
    "    price = app[4]\n",
    "    if price == '0.0':\n",
    "        ios_final.append(app)\n",
    "        \n",
    "explore_data(android_final, 0, 3, True)\n",
    "print('\\n')\n",
    "explore_data(ios_final, 0, 3, True)"
   ]
  },
  {
   "cell_type": "markdown",
   "id": "81619ba0",
   "metadata": {},
   "source": [
    "We now have 8,864 Android apps and 3,220 IOS apps left in our data sets.\n",
    "\n",
    "# Most Common Apps by Genre\n",
    "\n",
    "## Part One\n",
    "\n",
    "As we mentioned in the introduction, we wish to find out which kind of free apps attract the most users and, therefore, have the highest revenue-generating potential. For a company to minimize risk and overheads when developing an app, it's important that they have a validation strategy.\n",
    "\n",
    "A good validation strategy might look like this:\n",
    "\n",
    "1. Build a minimal android app, and add it to Google Play.\n",
    "\n",
    "2. If the app has a good response from users, develop it further.\n",
    "\n",
    "3. If the app is profitable after six months, build an iOS version off the app and add it to the App Store.\n",
    "\n",
    "Because the end goal here is to add the app on both Google Play and the App store, there's a need to find app profiles that are successful across both markets.\n",
    "\n",
    "We'll begin our analysis by getting a sense of what are the most common genres for each market. Let's explore the data sets to find out which columns might be useful for us.\n"
   ]
  },
  {
   "cell_type": "code",
   "execution_count": 20,
   "id": "cefaf52f",
   "metadata": {},
   "outputs": [
    {
     "name": "stdout",
     "output_type": "stream",
     "text": [
      "['App', 'Category', 'Rating', 'Reviews', 'Size', 'Installs', 'Type', 'Price', 'Content Rating', 'Genres', 'Last Updated', 'Current Ver', 'Android Ver']\n",
      "\n",
      "\n",
      "['id', 'track_name', 'size_bytes', 'currency', 'price', 'rating_count_tot', 'rating_count_ver', 'user_rating', 'user_rating_ver', 'ver', 'cont_rating', 'prime_genre', 'sup_devices.num', 'ipadSc_urls.num', 'lang.num', 'vpp_lic']\n"
     ]
    }
   ],
   "source": [
    "print(android_header)\n",
    "print('\\n')\n",
    "print(ios_header)"
   ]
  },
  {
   "cell_type": "markdown",
   "id": "062f075d",
   "metadata": {},
   "source": [
    "We can use the `Genres` and `Category` columns from the Google Play data set, and the `prime_genre` column from the App Store data set to help us find the most common app genres.\n",
    "\n",
    "## Part Two\n",
    "\n",
    "We'll build two functions that will allow us to analyse the frequency tables:\n",
    "\n",
    "- One function to generate frequency tables that show percentages\n",
    "- Another function we can use to display the percentages in decsending order\n"
   ]
  },
  {
   "cell_type": "code",
   "execution_count": 21,
   "id": "f870ddfd",
   "metadata": {},
   "outputs": [],
   "source": [
    "def freq_table(dataset: list, index: int):\n",
    "    frequencies = {}\n",
    "    total = 0\n",
    "    \n",
    "    for row in dataset:\n",
    "        total += 1\n",
    "        value = row[index]\n",
    "        if value in frequencies:\n",
    "            frequencies[value] += 1\n",
    "        else:\n",
    "            frequencies[value] = 1\n",
    "            \n",
    "    frequencies_percentages = {}\n",
    "    for key in frequencies:\n",
    "        percentage = (frequencies[key] / total) * 100\n",
    "        frequencies_percentages[key] = percentage\n",
    "        \n",
    "    return frequencies_percentages\n",
    "\n",
    "\n",
    "def display_table(dataset: list, index: int):\n",
    "    table = freq_table(dataset, index)\n",
    "    table_display = []\n",
    "    for key in table:\n",
    "        key_val_as_tuple = (table[key], key)\n",
    "        table_display.append(key_val_as_tuple)\n",
    "\n",
    "    table_sorted = sorted(table_display, reverse = True)\n",
    "    for entry in table_sorted:\n",
    "        print(entry[1], ':', entry[0])"
   ]
  },
  {
   "cell_type": "markdown",
   "id": "bf045be7",
   "metadata": {},
   "source": [
    "## Part Three\n",
    "\n",
    "We start by examining the frequency table for the `prime_genre` column of the App Store data set."
   ]
  },
  {
   "cell_type": "code",
   "execution_count": 22,
   "id": "d6e73064",
   "metadata": {
    "scrolled": false
   },
   "outputs": [
    {
     "name": "stdout",
     "output_type": "stream",
     "text": [
      "Games : 58.13664596273293\n",
      "Entertainment : 7.888198757763975\n",
      "Photo & Video : 4.968944099378882\n",
      "Education : 3.6645962732919255\n",
      "Social Networking : 3.291925465838509\n",
      "Shopping : 2.608695652173913\n",
      "Utilities : 2.515527950310559\n",
      "Sports : 2.142857142857143\n",
      "Music : 2.049689440993789\n",
      "Health & Fitness : 2.018633540372671\n",
      "Productivity : 1.7391304347826086\n",
      "Lifestyle : 1.5838509316770186\n",
      "News : 1.3354037267080745\n",
      "Travel : 1.2422360248447204\n",
      "Finance : 1.1180124223602486\n",
      "Weather : 0.8695652173913043\n",
      "Food & Drink : 0.8074534161490683\n",
      "Reference : 0.5590062111801243\n",
      "Business : 0.5279503105590062\n",
      "Book : 0.43478260869565216\n",
      "Navigation : 0.18633540372670807\n",
      "Medical : 0.18633540372670807\n",
      "Catalogs : 0.12422360248447205\n"
     ]
    }
   ],
   "source": [
    "display_table(ios_final, -5)"
   ]
  },
  {
   "cell_type": "markdown",
   "id": "990c383d",
   "metadata": {},
   "source": [
    "We can see that in the App Store data set, over half (58.14%) of all apps are within the 'Games' genre, giving it a clear majority. The next most common apps are 'Entertainment (7.89%) and 'Photo & Video' (4.97%).\n",
    "\n",
    "Overall, it's clear that the most common apps on the App Store are designed for entertainment (games, photo and video, social networking ect). Apps that are more geared towards partical purposes (education, shopping, utilities, productivity, lifestyle) generally fall lower in the frequency table.\n",
    "\n",
    "While this frequency table gives us an idea of the kind of apps that make up the App Store market, it does not tell us which kind of apps generally have the largest number of users. Therefore, we cannot recommend an app profile based on this alone.\n",
    "\n",
    "Let's now examine the frequency table for the `Category` column of the Google Play data set."
   ]
  },
  {
   "cell_type": "code",
   "execution_count": 23,
   "id": "462762a2",
   "metadata": {},
   "outputs": [
    {
     "name": "stdout",
     "output_type": "stream",
     "text": [
      "FAMILY : 18.907942238267147\n",
      "GAME : 9.724729241877256\n",
      "TOOLS : 8.461191335740072\n",
      "BUSINESS : 4.591606498194946\n",
      "LIFESTYLE : 3.9034296028880866\n",
      "PRODUCTIVITY : 3.892148014440433\n",
      "FINANCE : 3.7003610108303246\n",
      "MEDICAL : 3.531137184115524\n",
      "SPORTS : 3.395758122743682\n",
      "PERSONALIZATION : 3.3167870036101084\n",
      "COMMUNICATION : 3.2378158844765346\n",
      "HEALTH_AND_FITNESS : 3.0798736462093865\n",
      "PHOTOGRAPHY : 2.944494584837545\n",
      "NEWS_AND_MAGAZINES : 2.7978339350180503\n",
      "SOCIAL : 2.6624548736462095\n",
      "TRAVEL_AND_LOCAL : 2.33528880866426\n",
      "SHOPPING : 2.2450361010830324\n",
      "BOOKS_AND_REFERENCE : 2.1435018050541514\n",
      "DATING : 1.861462093862816\n",
      "VIDEO_PLAYERS : 1.7937725631768955\n",
      "MAPS_AND_NAVIGATION : 1.3989169675090252\n",
      "FOOD_AND_DRINK : 1.2409747292418771\n",
      "EDUCATION : 1.1620036101083033\n",
      "ENTERTAINMENT : 0.9589350180505415\n",
      "LIBRARIES_AND_DEMO : 0.9363718411552346\n",
      "AUTO_AND_VEHICLES : 0.9250902527075812\n",
      "HOUSE_AND_HOME : 0.8235559566787004\n",
      "WEATHER : 0.8009927797833934\n",
      "EVENTS : 0.7107400722021661\n",
      "PARENTING : 0.6543321299638989\n",
      "ART_AND_DESIGN : 0.6430505415162455\n",
      "COMICS : 0.6204873646209386\n",
      "BEAUTY : 0.5979241877256317\n"
     ]
    }
   ],
   "source": [
    "display_table(android_final, 1) # Category"
   ]
  },
  {
   "cell_type": "markdown",
   "id": "96b620b7",
   "metadata": {},
   "source": [
    "The most common category in the Google Play Store data set is 'Family' with 18.9%. This is followed by 'Game' (9.72%) and 'Tool' (8.46%).\n",
    "While 'Family' takes the top spot, it is not immediately clear what the category consists of. It is possible that it is a combination of games, video and education apps.\n",
    "\n",
    "Overall, we can see that there is a much move even mix of practical/lifestyle and entertainment apps within the most common app types in the Google Play Store data set when compared with the App Store data set.\n",
    "\n",
    "Finally, we'll examine the frequency table for the `Genres` column of the Google Play data set."
   ]
  },
  {
   "cell_type": "code",
   "execution_count": 24,
   "id": "4600dd6c",
   "metadata": {},
   "outputs": [
    {
     "name": "stdout",
     "output_type": "stream",
     "text": [
      "Tools : 8.449909747292418\n",
      "Entertainment : 6.069494584837545\n",
      "Education : 5.347472924187725\n",
      "Business : 4.591606498194946\n",
      "Productivity : 3.892148014440433\n",
      "Lifestyle : 3.892148014440433\n",
      "Finance : 3.7003610108303246\n",
      "Medical : 3.531137184115524\n",
      "Sports : 3.463447653429603\n",
      "Personalization : 3.3167870036101084\n",
      "Communication : 3.2378158844765346\n",
      "Action : 3.1024368231046933\n",
      "Health & Fitness : 3.0798736462093865\n",
      "Photography : 2.944494584837545\n",
      "News & Magazines : 2.7978339350180503\n",
      "Social : 2.6624548736462095\n",
      "Travel & Local : 2.3240072202166067\n",
      "Shopping : 2.2450361010830324\n",
      "Books & Reference : 2.1435018050541514\n",
      "Simulation : 2.0419675090252705\n",
      "Dating : 1.861462093862816\n",
      "Arcade : 1.8501805054151623\n",
      "Video Players & Editors : 1.7712093862815883\n",
      "Casual : 1.7599277978339352\n",
      "Maps & Navigation : 1.3989169675090252\n",
      "Food & Drink : 1.2409747292418771\n",
      "Puzzle : 1.128158844765343\n",
      "Racing : 0.9927797833935018\n",
      "Role Playing : 0.9363718411552346\n",
      "Libraries & Demo : 0.9363718411552346\n",
      "Auto & Vehicles : 0.9250902527075812\n",
      "Strategy : 0.9138086642599278\n",
      "House & Home : 0.8235559566787004\n",
      "Weather : 0.8009927797833934\n",
      "Events : 0.7107400722021661\n",
      "Adventure : 0.6768953068592057\n",
      "Comics : 0.6092057761732852\n",
      "Beauty : 0.5979241877256317\n",
      "Art & Design : 0.5979241877256317\n",
      "Parenting : 0.4963898916967509\n",
      "Card : 0.45126353790613716\n",
      "Casino : 0.42870036101083037\n",
      "Trivia : 0.41741877256317694\n",
      "Educational;Education : 0.39485559566787\n",
      "Board : 0.3835740072202166\n",
      "Educational : 0.3722924187725632\n",
      "Education;Education : 0.33844765342960287\n",
      "Word : 0.2594765342960289\n",
      "Casual;Pretend Play : 0.236913357400722\n",
      "Music : 0.2030685920577617\n",
      "Racing;Action & Adventure : 0.16922382671480143\n",
      "Puzzle;Brain Games : 0.16922382671480143\n",
      "Entertainment;Music & Video : 0.16922382671480143\n",
      "Casual;Brain Games : 0.13537906137184114\n",
      "Casual;Action & Adventure : 0.13537906137184114\n",
      "Arcade;Action & Adventure : 0.12409747292418773\n",
      "Action;Action & Adventure : 0.10153429602888085\n",
      "Educational;Pretend Play : 0.09025270758122744\n",
      "Simulation;Action & Adventure : 0.078971119133574\n",
      "Parenting;Education : 0.078971119133574\n",
      "Entertainment;Brain Games : 0.078971119133574\n",
      "Board;Brain Games : 0.078971119133574\n",
      "Parenting;Music & Video : 0.06768953068592057\n",
      "Educational;Brain Games : 0.06768953068592057\n",
      "Casual;Creativity : 0.06768953068592057\n",
      "Art & Design;Creativity : 0.06768953068592057\n",
      "Education;Pretend Play : 0.056407942238267145\n",
      "Role Playing;Pretend Play : 0.04512635379061372\n",
      "Education;Creativity : 0.04512635379061372\n",
      "Role Playing;Action & Adventure : 0.033844765342960284\n",
      "Puzzle;Action & Adventure : 0.033844765342960284\n",
      "Entertainment;Creativity : 0.033844765342960284\n",
      "Entertainment;Action & Adventure : 0.033844765342960284\n",
      "Educational;Creativity : 0.033844765342960284\n",
      "Educational;Action & Adventure : 0.033844765342960284\n",
      "Education;Music & Video : 0.033844765342960284\n",
      "Education;Brain Games : 0.033844765342960284\n",
      "Education;Action & Adventure : 0.033844765342960284\n",
      "Adventure;Action & Adventure : 0.033844765342960284\n",
      "Video Players & Editors;Music & Video : 0.02256317689530686\n",
      "Sports;Action & Adventure : 0.02256317689530686\n",
      "Simulation;Pretend Play : 0.02256317689530686\n",
      "Puzzle;Creativity : 0.02256317689530686\n",
      "Music;Music & Video : 0.02256317689530686\n",
      "Entertainment;Pretend Play : 0.02256317689530686\n",
      "Casual;Education : 0.02256317689530686\n",
      "Board;Action & Adventure : 0.02256317689530686\n",
      "Video Players & Editors;Creativity : 0.01128158844765343\n",
      "Trivia;Education : 0.01128158844765343\n",
      "Travel & Local;Action & Adventure : 0.01128158844765343\n",
      "Tools;Education : 0.01128158844765343\n",
      "Strategy;Education : 0.01128158844765343\n",
      "Strategy;Creativity : 0.01128158844765343\n",
      "Strategy;Action & Adventure : 0.01128158844765343\n",
      "Simulation;Education : 0.01128158844765343\n",
      "Role Playing;Brain Games : 0.01128158844765343\n",
      "Racing;Pretend Play : 0.01128158844765343\n",
      "Puzzle;Education : 0.01128158844765343\n",
      "Parenting;Brain Games : 0.01128158844765343\n",
      "Music & Audio;Music & Video : 0.01128158844765343\n",
      "Lifestyle;Pretend Play : 0.01128158844765343\n",
      "Lifestyle;Education : 0.01128158844765343\n",
      "Health & Fitness;Education : 0.01128158844765343\n",
      "Health & Fitness;Action & Adventure : 0.01128158844765343\n",
      "Entertainment;Education : 0.01128158844765343\n",
      "Communication;Creativity : 0.01128158844765343\n",
      "Comics;Creativity : 0.01128158844765343\n",
      "Casual;Music & Video : 0.01128158844765343\n",
      "Card;Action & Adventure : 0.01128158844765343\n",
      "Books & Reference;Education : 0.01128158844765343\n",
      "Art & Design;Pretend Play : 0.01128158844765343\n",
      "Art & Design;Action & Adventure : 0.01128158844765343\n",
      "Arcade;Pretend Play : 0.01128158844765343\n",
      "Adventure;Education : 0.01128158844765343\n"
     ]
    }
   ],
   "source": [
    "display_table(android_final, -4)"
   ]
  },
  {
   "cell_type": "markdown",
   "id": "a6e55427",
   "metadata": {},
   "source": [
    "The main difference between the `Genres` and `Category` columns in the Google Play data set is that 'Genres' is much more granular. We can see this as there are many more categories.\n",
    "As we are focussing on the bigger picture in our analysis, we'll stick with the broader 'Category' column.\n",
    "\n",
    "So far, we have seen that the App Store is more geared towards fun apps while the Google Play Store has more of a mix between fun and praticial apps.\n",
    "However, in order to recommend an app profile for maximum revenues, we need to investigate which kind of apps generally have the most users.\n",
    "\n",
    "# Most Popular Apps by Genre on the App Store\n",
    "\n",
    "One way to find out what genres are the most popular is to calculate the average number of installs for each app genre. For the Google Play data set, we can find this information in the `Installs` column, but this information is missing for the App Store data set. As a workaround, we'll take the total number of ratings as a proxy, which we can find in the `rating_count_tot` column.\n",
    "\n",
    "Below, we'll calculate the average number of user ratings per app genre on the App Store:\n"
   ]
  },
  {
   "cell_type": "code",
   "execution_count": 25,
   "id": "bb5621f8",
   "metadata": {},
   "outputs": [
    {
     "name": "stdout",
     "output_type": "stream",
     "text": [
      "Social Networking : 71548.34905660378\n",
      "Photo & Video : 28441.54375\n",
      "Games : 22812.92467948718\n",
      "Music : 57326.530303030304\n",
      "Reference : 74942.11111111111\n",
      "Health & Fitness : 23298.015384615384\n",
      "Weather : 52279.892857142855\n",
      "Utilities : 18684.456790123455\n",
      "Travel : 28243.8\n",
      "Shopping : 26919.690476190477\n",
      "News : 21248.023255813954\n",
      "Navigation : 86090.33333333333\n",
      "Lifestyle : 16485.764705882353\n",
      "Entertainment : 14029.830708661417\n",
      "Food & Drink : 33333.92307692308\n",
      "Sports : 23008.898550724636\n",
      "Book : 39758.5\n",
      "Finance : 31467.944444444445\n",
      "Education : 7003.983050847458\n",
      "Productivity : 21028.410714285714\n",
      "Business : 7491.117647058823\n",
      "Catalogs : 4004.0\n",
      "Medical : 612.0\n"
     ]
    }
   ],
   "source": [
    "ios_genres = freq_table(ios_final, -5)\n",
    "\n",
    "for genre in ios_genres:\n",
    "    total = 0\n",
    "    len_genre = 0\n",
    "    for app in ios_final:\n",
    "        genre_app = app[-5]\n",
    "        if genre_app == genre:\n",
    "            user_ratings = float(app[5])\n",
    "            total += user_ratings\n",
    "            len_genre += 1\n",
    "            \n",
    "    avg_ratings = total / len_genre\n",
    "    \n",
    "    print(genre, ':', avg_ratings)"
   ]
  },
  {
   "cell_type": "markdown",
   "id": "6cf18115",
   "metadata": {},
   "source": [
    "Based on the average number of user ratings for any given app within a certain genre on the App Store, we can see that the most popular apps fall into the 'Navigation', 'Reference' and 'Social Networking' genres.\n",
    "Although 'Navigation' came out on top (86,090 average ratings per app), this figure is heavily influenced by Waze amd Google maps, which have close to half a million user reviews together:"
   ]
  },
  {
   "cell_type": "code",
   "execution_count": 26,
   "id": "8fd3992e",
   "metadata": {},
   "outputs": [
    {
     "name": "stdout",
     "output_type": "stream",
     "text": [
      "Waze - GPS Navigation, Maps & Real-time Traffic : 345046\n",
      "Google Maps - Navigation & Transit : 154911\n",
      "Geocaching® : 12811\n",
      "CoPilot GPS – Car Navigation & Offline Maps : 3582\n",
      "ImmobilienScout24: Real Estate Search in Germany : 187\n",
      "Railway Route Search : 5\n"
     ]
    }
   ],
   "source": [
    "for app in ios_final:\n",
    "    genre = app[-5]\n",
    "    if genre == 'Navigation':\n",
    "        print(app[1], ':', app[5]) # Print name and number of ratings"
   ]
  },
  {
   "cell_type": "markdown",
   "id": "db5c60e7",
   "metadata": {},
   "source": [
    "If we look closer into the 'Reference' genre (74,942 average ratings per app), a similar pattern occurs in that the Bible and Dictionary.com apps account for a huge proportion of user ratings."
   ]
  },
  {
   "cell_type": "code",
   "execution_count": 27,
   "id": "64a2c616",
   "metadata": {},
   "outputs": [
    {
     "name": "stdout",
     "output_type": "stream",
     "text": [
      "Bible : 985920\n",
      "Dictionary.com Dictionary & Thesaurus : 200047\n",
      "Dictionary.com Dictionary & Thesaurus for iPad : 54175\n",
      "Google Translate : 26786\n",
      "Muslim Pro: Ramadan 2017 Prayer Times, Azan, Quran : 18418\n",
      "New Furniture Mods - Pocket Wiki & Game Tools for Minecraft PC Edition : 17588\n",
      "Merriam-Webster Dictionary : 16849\n",
      "Night Sky : 12122\n",
      "City Maps for Minecraft PE - The Best Maps for Minecraft Pocket Edition (MCPE) : 8535\n",
      "LUCKY BLOCK MOD ™ for Minecraft PC Edition - The Best Pocket Wiki & Mods Installer Tools : 4693\n",
      "GUNS MODS for Minecraft PC Edition - Mods Tools : 1497\n",
      "Guides for Pokémon GO - Pokemon GO News and Cheats : 826\n",
      "WWDC : 762\n",
      "Horror Maps for Minecraft PE - Download The Scariest Maps for Minecraft Pocket Edition (MCPE) Free : 718\n",
      "VPN Express : 14\n",
      "Real Bike Traffic Rider Virtual Reality Glasses : 8\n",
      "教えて!goo : 0\n",
      "Jishokun-Japanese English Dictionary & Translator : 0\n"
     ]
    }
   ],
   "source": [
    "for app in ios_final:\n",
    "    genre = app[-5]\n",
    "    if genre == 'Reference':\n",
    "        print(app[1], ':', app[5])"
   ]
  },
  {
   "cell_type": "markdown",
   "id": "2f4354dd",
   "metadata": {},
   "source": [
    "The 'Social Networking' genre also has a number of apps that dominate the statistics, such as Facebook and Pinterest:"
   ]
  },
  {
   "cell_type": "code",
   "execution_count": 28,
   "id": "f125430d",
   "metadata": {
    "scrolled": false
   },
   "outputs": [
    {
     "name": "stdout",
     "output_type": "stream",
     "text": [
      "Facebook : 2974676\n",
      "Pinterest : 1061624\n",
      "Skype for iPhone : 373519\n",
      "Messenger : 351466\n",
      "Tumblr : 334293\n",
      "WhatsApp Messenger : 287589\n",
      "Kik : 260965\n",
      "ooVoo – Free Video Call, Text and Voice : 177501\n",
      "TextNow - Unlimited Text + Calls : 164963\n",
      "Viber Messenger – Text & Call : 164249\n",
      "Followers - Social Analytics For Instagram : 112778\n",
      "MeetMe - Chat and Meet New People : 97072\n",
      "We Heart It - Fashion, wallpapers, quotes, tattoos : 90414\n",
      "InsTrack for Instagram - Analytics Plus More : 85535\n",
      "Tango - Free Video Call, Voice and Chat : 75412\n",
      "LinkedIn : 71856\n",
      "Match™ - #1 Dating App. : 60659\n",
      "Skype for iPad : 60163\n",
      "POF - Best Dating App for Conversations : 52642\n",
      "Timehop : 49510\n",
      "Find My Family, Friends & iPhone - Life360 Locator : 43877\n",
      "Whisper - Share, Express, Meet : 39819\n",
      "Hangouts : 36404\n",
      "LINE PLAY - Your Avatar World : 34677\n",
      "WeChat : 34584\n",
      "Badoo - Meet New People, Chat, Socialize. : 34428\n",
      "Followers + for Instagram - Follower Analytics : 28633\n",
      "GroupMe : 28260\n",
      "Marco Polo Video Walkie Talkie : 27662\n",
      "Miitomo : 23965\n",
      "SimSimi : 23530\n",
      "Grindr - Gay and same sex guys chat, meet and date : 23201\n",
      "Wishbone - Compare Anything : 20649\n",
      "imo video calls and chat : 18841\n",
      "After School - Funny Anonymous School News : 18482\n",
      "Quick Reposter - Repost, Regram and Reshare Photos : 17694\n",
      "Weibo HD : 16772\n",
      "Repost for Instagram : 15185\n",
      "Live.me – Live Video Chat & Make Friends Nearby : 14724\n",
      "Nextdoor : 14402\n",
      "Followers Analytics for Instagram - InstaReport : 13914\n",
      "YouNow: Live Stream Video Chat : 12079\n",
      "FollowMeter for Instagram - Followers Tracking : 11976\n",
      "LINE : 11437\n",
      "eHarmony™ Dating App - Meet Singles : 11124\n",
      "Discord - Chat for Gamers : 9152\n",
      "QQ : 9109\n",
      "Telegram Messenger : 7573\n",
      "Weibo : 7265\n",
      "Periscope - Live Video Streaming Around the World : 6062\n",
      "Chat for Whatsapp - iPad Version : 5060\n",
      "QQ HD : 5058\n",
      "Followers Analysis Tool For Instagram App Free : 4253\n",
      "live.ly - live video streaming : 4145\n",
      "Houseparty - Group Video Chat : 3991\n",
      "SOMA Messenger : 3232\n",
      "Monkey : 3060\n",
      "Down To Lunch : 2535\n",
      "Flinch - Video Chat Staring Contest : 2134\n",
      "Highrise - Your Avatar Community : 2011\n",
      "LOVOO - Dating Chat : 1985\n",
      "PlayStation®Messages : 1918\n",
      "BOO! - Video chat camera with filters & stickers : 1805\n",
      "Qzone : 1649\n",
      "Chatous - Chat with new people : 1609\n",
      "Kiwi - Q&A : 1538\n",
      "GhostCodes - a discovery app for Snapchat : 1313\n",
      "Jodel : 1193\n",
      "FireChat : 1037\n",
      "Google Duo - simple video calling : 1033\n",
      "Fiesta by Tango - Chat & Meet New People : 885\n",
      "Google Allo — smart messaging : 862\n",
      "Peach — share vividly : 727\n",
      "Hey! VINA - Where Women Meet New Friends : 719\n",
      "Battlefield™ Companion : 689\n",
      "All Devices for WhatsApp - Messenger for iPad : 682\n",
      "Chat for Pokemon Go - GoChat : 500\n",
      "IAmNaughty – Dating App to Meet New People Online : 463\n",
      "Qzone HD : 458\n",
      "Zenly - Locate your friends in realtime : 427\n",
      "League of Legends Friends : 420\n",
      "豆瓣 : 407\n",
      "Candid - Speak Your Mind Freely : 398\n",
      "知乎 : 397\n",
      "Selfeo : 366\n",
      "Fake-A-Location Free ™ : 354\n",
      "Popcorn Buzz - Free Group Calls : 281\n",
      "Fam — Group video calling for iMessage : 279\n",
      "QQ International : 274\n",
      "Ameba : 269\n",
      "SoundCloud Pulse: for creators : 240\n",
      "Tantan : 235\n",
      "Cougar Dating & Life Style App for Mature Women : 213\n",
      "Rawr Messenger - Dab your chat : 180\n",
      "WhenToPost: Best Time to Post Photos for Instagram : 158\n",
      "Inke—Broadcast an amazing life : 147\n",
      "Mustknow - anonymous video Q&A : 53\n",
      "CTFxCmoji : 39\n",
      "Lobi : 36\n",
      "Chain: Collaborate On MyVideo Story/Group Video : 35\n",
      "botman - Real time video chat : 7\n",
      "BestieBox : 0\n",
      "MATCH ON LINE chat : 0\n",
      "niconico ch : 0\n",
      "LINE BLOG : 0\n",
      "bit-tube - Live Stream Video Chat : 0\n"
     ]
    }
   ],
   "source": [
    "for app in ios_final:\n",
    "    genre = app[-5]\n",
    "    if genre == 'Social Networking':\n",
    "        print(app[1], ':', app[5])"
   ]
  },
  {
   "cell_type": "markdown",
   "id": "28089ae8",
   "metadata": {},
   "source": [
    "However, the 'Social Networking' genre shows some potential for certain niches. For example, apps that are directed towards analysing or adding functionality to an existing app with a lot of users can also attract a lot of users. For example, Followers - Social Analytics For Instagram; Timehop; and Quick Reposter follow this pattern.\n",
    "\n",
    "Furthermore, if an app offers much needed functionality to a big social networking platform, there's a chance of investment from and partnership with the platform itself. \n",
    "\n",
    "Now let's analyse the Google Play market further.\n",
    "\n",
    "# Most Popular Apps by Genre on Google Play\n",
    "\n",
    "Unlike the App Store data set, the Google Play data set has data about the number of installs per app, so we should be able to get a clearer picture about genre popularity. However. the install numbers don't seem precise enough - we can see that most values are open-ended (100+, 1,000+, 5,000+, etc.):"
   ]
  },
  {
   "cell_type": "code",
   "execution_count": 29,
   "id": "624d2771",
   "metadata": {},
   "outputs": [
    {
     "name": "stdout",
     "output_type": "stream",
     "text": [
      "1,000,000+ : 15.726534296028879\n",
      "100,000+ : 11.552346570397113\n",
      "10,000,000+ : 10.548285198555957\n",
      "10,000+ : 10.198555956678701\n",
      "1,000+ : 8.393501805054152\n",
      "100+ : 6.915613718411552\n",
      "5,000,000+ : 6.825361010830325\n",
      "500,000+ : 5.561823104693141\n",
      "50,000+ : 4.7721119133574\n",
      "5,000+ : 4.512635379061372\n",
      "10+ : 3.5424187725631766\n",
      "500+ : 3.2490974729241873\n",
      "50,000,000+ : 2.3014440433213\n",
      "100,000,000+ : 2.1322202166064983\n",
      "50+ : 1.917870036101083\n",
      "5+ : 0.78971119133574\n",
      "1+ : 0.5076714801444043\n",
      "500,000,000+ : 0.2707581227436823\n",
      "1,000,000,000+ : 0.22563176895306858\n",
      "0+ : 0.04512635379061372\n",
      "0 : 0.01128158844765343\n"
     ]
    }
   ],
   "source": [
    "display_table(android_final, 5) # The Installs column"
   ]
  },
  {
   "cell_type": "markdown",
   "id": "e8debff0",
   "metadata": {},
   "source": [
    "Although we don't know the exact number of installs per app, we don't need very precise data for our purposes - we only want to find out which app genres attract the most users overall.\n",
    "With this in mind, we are going to leave the numbers as they are. \n",
    "\n",
    "However, to perform computations, we'll need to convert each install number from a string to a float. This means we'll need to remove the commas and the plus characters, otherwise the conversion will fail and raise an error. We'll do this within a loop below and also compute the average number of installs for each genre (category)."
   ]
  },
  {
   "cell_type": "code",
   "execution_count": 30,
   "id": "d243f852",
   "metadata": {},
   "outputs": [
    {
     "name": "stdout",
     "output_type": "stream",
     "text": [
      "ART_AND_DESIGN : 1986335.0877192982\n",
      "AUTO_AND_VEHICLES : 647317.8170731707\n",
      "BEAUTY : 513151.88679245283\n",
      "BOOKS_AND_REFERENCE : 8767811.894736841\n",
      "BUSINESS : 1712290.1474201474\n",
      "COMICS : 817657.2727272727\n",
      "COMMUNICATION : 38456119.167247385\n",
      "DATING : 854028.8303030303\n",
      "EDUCATION : 1833495.145631068\n",
      "ENTERTAINMENT : 11640705.88235294\n",
      "EVENTS : 253542.22222222222\n",
      "FINANCE : 1387692.475609756\n",
      "FOOD_AND_DRINK : 1924897.7363636363\n",
      "HEALTH_AND_FITNESS : 4188821.9853479853\n",
      "HOUSE_AND_HOME : 1331540.5616438356\n",
      "LIBRARIES_AND_DEMO : 638503.734939759\n",
      "LIFESTYLE : 1437816.2687861272\n",
      "GAME : 15588015.603248259\n",
      "FAMILY : 3695641.8198090694\n",
      "MEDICAL : 120550.61980830671\n",
      "SOCIAL : 23253652.127118643\n",
      "SHOPPING : 7036877.311557789\n",
      "PHOTOGRAPHY : 17840110.40229885\n",
      "SPORTS : 3638640.1428571427\n",
      "TRAVEL_AND_LOCAL : 13984077.710144928\n",
      "TOOLS : 10801391.298666667\n",
      "PERSONALIZATION : 5201482.6122448975\n",
      "PRODUCTIVITY : 16787331.344927534\n",
      "PARENTING : 542603.6206896552\n",
      "WEATHER : 5074486.197183099\n",
      "VIDEO_PLAYERS : 24727872.452830188\n",
      "NEWS_AND_MAGAZINES : 9549178.467741935\n",
      "MAPS_AND_NAVIGATION : 4056941.7741935486\n"
     ]
    }
   ],
   "source": [
    "android_categories = freq_table(android_final, 1)\n",
    "\n",
    "for category in android_categories:\n",
    "    total = 0\n",
    "    len_category = 0\n",
    "    for app in android_final:\n",
    "        category_app = app[1]\n",
    "        if category_app == category:\n",
    "            installs = app[5]\n",
    "            installs = installs.replace('+', '')\n",
    "            installs = installs.replace(',', '')\n",
    "            installs = float(installs)\n",
    "            total += installs\n",
    "            len_category += 1\n",
    "            \n",
    "    avg_installs = total / len_category\n",
    "    \n",
    "    print(category, ':', avg_installs)\n"
   ]
  },
  {
   "cell_type": "markdown",
   "id": "b45537fe",
   "metadata": {},
   "source": [
    "On average, communication apps have the highest average installs (38,456,119). However, this number is heavily influenced by a few hugely popular apps such as WhatsApp Messenger and Skype:"
   ]
  },
  {
   "cell_type": "code",
   "execution_count": 31,
   "id": "8daf6950",
   "metadata": {},
   "outputs": [
    {
     "name": "stdout",
     "output_type": "stream",
     "text": [
      "WhatsApp Messenger : 1,000,000,000+\n",
      "imo beta free calls and text : 100,000,000+\n",
      "Android Messages : 100,000,000+\n",
      "Google Duo - High Quality Video Calls : 500,000,000+\n",
      "Messenger – Text and Video Chat for Free : 1,000,000,000+\n",
      "imo free video calls and chat : 500,000,000+\n",
      "Skype - free IM & video calls : 1,000,000,000+\n",
      "Who : 100,000,000+\n",
      "GO SMS Pro - Messenger, Free Themes, Emoji : 100,000,000+\n",
      "LINE: Free Calls & Messages : 500,000,000+\n",
      "Google Chrome: Fast & Secure : 1,000,000,000+\n",
      "Firefox Browser fast & private : 100,000,000+\n",
      "UC Browser - Fast Download Private & Secure : 500,000,000+\n",
      "Gmail : 1,000,000,000+\n",
      "Hangouts : 1,000,000,000+\n",
      "Messenger Lite: Free Calls & Messages : 100,000,000+\n",
      "Kik : 100,000,000+\n",
      "KakaoTalk: Free Calls & Text : 100,000,000+\n",
      "Opera Mini - fast web browser : 100,000,000+\n",
      "Opera Browser: Fast and Secure : 100,000,000+\n",
      "Telegram : 100,000,000+\n",
      "Truecaller: Caller ID, SMS spam blocking & Dialer : 100,000,000+\n",
      "UC Browser Mini -Tiny Fast Private & Secure : 100,000,000+\n",
      "Viber Messenger : 500,000,000+\n",
      "WeChat : 100,000,000+\n",
      "Yahoo Mail – Stay Organized : 100,000,000+\n",
      "BBM - Free Calls & Messages : 100,000,000+\n"
     ]
    }
   ],
   "source": [
    "for app in android_final:\n",
    "    genre = app[1]\n",
    "    if genre == 'COMMUNICATION' and (app[5] == '1,000,000,000+'\n",
    "                                     or app[5] == '500,000,000+'\n",
    "                                     or app[5] == '100,000,000+'):\n",
    "        print(app[0], ':', app[5])\n",
    "        "
   ]
  },
  {
   "cell_type": "markdown",
   "id": "97ed2f34",
   "metadata": {},
   "source": [
    "This pattern is also seen in the social app category, where Facebook and Instagram have over a billion installs each:"
   ]
  },
  {
   "cell_type": "code",
   "execution_count": 32,
   "id": "73414a0e",
   "metadata": {},
   "outputs": [
    {
     "name": "stdout",
     "output_type": "stream",
     "text": [
      "Facebook : 1,000,000,000+\n",
      "Facebook Lite : 500,000,000+\n",
      "Tumblr : 100,000,000+\n",
      "Pinterest : 100,000,000+\n",
      "Google+ : 1,000,000,000+\n",
      "Badoo - Free Chat & Dating App : 100,000,000+\n",
      "Tango - Live Video Broadcast : 100,000,000+\n",
      "Instagram : 1,000,000,000+\n",
      "Snapchat : 500,000,000+\n",
      "LinkedIn : 100,000,000+\n",
      "Tik Tok - including musical.ly : 100,000,000+\n",
      "BIGO LIVE - Live Stream : 100,000,000+\n",
      "VK : 100,000,000+\n"
     ]
    }
   ],
   "source": [
    "for app in android_final:\n",
    "    genre = app[1]\n",
    "    if genre == 'SOCIAL' and (app[5] == '1,000,000,000+'\n",
    "                              or app[5] == '500,000,000+'\n",
    "                              or app[5] == '100,000,000+'):\n",
    "        print(app[0], ':', app[5])"
   ]
  },
  {
   "cell_type": "markdown",
   "id": "ca4251cf",
   "metadata": {},
   "source": [
    "However, we can try to get some app ideas based on the kind of social apps that are somwhere in the middle in terms of popularity (between 1,000,000 and 100,000,000 downloads):"
   ]
  },
  {
   "cell_type": "code",
   "execution_count": 33,
   "id": "eeaba6b4",
   "metadata": {},
   "outputs": [
    {
     "name": "stdout",
     "output_type": "stream",
     "text": [
      "TextNow - free text + calls : 10,000,000+\n",
      "The Messenger App : 1,000,000+\n",
      "Messenger Pro : 1,000,000+\n",
      "Free Messages, Video, Chat,Text for Messenger Plus : 1,000,000+\n",
      "Telegram X : 5,000,000+\n",
      "Jodel - The Hyperlocal App : 1,000,000+\n",
      "Hide Something - Photo, Video : 5,000,000+\n",
      "Love Sticker : 1,000,000+\n",
      "Web Browser & Fast Explorer : 5,000,000+\n",
      "LiveMe - Video chat, new friends, and make money : 10,000,000+\n",
      "VidStatus app - Status Videos & Status Downloader : 5,000,000+\n",
      "Love Images : 1,000,000+\n",
      "SPARK - Live random video chat & meet new people : 5,000,000+\n",
      "Facebook Local : 1,000,000+\n",
      "Meet – Talk to Strangers Using Random Video Chat : 5,000,000+\n",
      "MobilePatrol Public Safety App : 1,000,000+\n",
      "💘 WhatsLov: Smileys of love, stickers and GIF : 1,000,000+\n",
      "HTC Social Plugin - Facebook : 10,000,000+\n",
      "Quora : 10,000,000+\n",
      "Kate Mobile for VK : 10,000,000+\n",
      "Family GPS tracker KidControl + GPS by SMS Locator : 1,000,000+\n",
      "Moment : 1,000,000+\n",
      "Text Me: Text Free, Call Free, Second Phone Number : 10,000,000+\n",
      "Text Free: WiFi Calling App : 5,000,000+\n",
      "Text free - Free Text + Call : 10,000,000+\n",
      "ooVoo Video Calls, Messaging & Stories : 50,000,000+\n",
      "Whisper : 5,000,000+\n",
      "Blogger : 5,000,000+\n",
      "TwitCasting Live : 1,000,000+\n",
      "YouNow: Live Stream Video Chat : 10,000,000+\n",
      "Banjo : 1,000,000+\n",
      "We Heart It : 10,000,000+\n",
      "MeetMe: Chat & Meet New People : 50,000,000+\n",
      "Timehop : 5,000,000+\n",
      "Frontback - Social Photos : 1,000,000+\n",
      "Path : 10,000,000+\n",
      "SayHi Chat, Meet New People : 10,000,000+\n",
      "Tapatalk - 100,000+ Forums : 10,000,000+\n",
      "Couple - Relationship App : 1,000,000+\n",
      "Nextdoor - Local neighborhood news & classifieds : 5,000,000+\n",
      "LOVOO : 10,000,000+\n",
      "Jaumo Dating, Flirt & Live Video : 10,000,000+\n",
      "Zello PTT Walkie Talkie : 50,000,000+\n",
      "textPlus: Free Text & Calls : 10,000,000+\n",
      "magicApp Calling & Messaging : 10,000,000+\n",
      "Dating App, Flirt & Chat : W-Match : 10,000,000+\n",
      "Meetup : 5,000,000+\n",
      "POF Free Dating App : 50,000,000+\n",
      "Tagged - Meet, Chat & Dating : 10,000,000+\n",
      "SKOUT - Meet, Chat, Go Live : 50,000,000+\n",
      "Mico- Stranger Chat Random video Chat, Live, Meet : 10,000,000+\n",
      "Waplog - Free Chat, Dating App, Meet Singles : 10,000,000+\n",
      "B-Messenger Video Chat : 1,000,000+\n",
      "Instachat 😜 : 5,000,000+\n",
      "Fame Boom for Real Followers, Likes : 5,000,000+\n",
      "FollowMeter for Instagram : 1,000,000+\n",
      "pixiv : 1,000,000+\n",
      "U LIVE – Video Chat & Stream : 1,000,000+\n",
      "VMate Lite - Funny Short Videos Social Network : 1,000,000+\n",
      "Legend - Animate Text in Video : 10,000,000+\n",
      "GUYZ - Gay Chat & Gay Dating : 1,000,000+\n",
      "Snaappy – 3D fun AR core communication platform : 1,000,000+\n",
      "Find My Friends : 10,000,000+\n",
      "Grindr - Gay chat : 10,000,000+\n",
      "Lesbian Chat & Dating - SPICY : 1,000,000+\n",
      "BOO! - Next Generation Messenger : 1,000,000+\n",
      "Wishbone - Compare Anything : 1,000,000+\n",
      "Fiesta by Tango - Find, Meet and Make New Friends : 1,000,000+\n",
      "Periscope - Live Video : 10,000,000+\n",
      "Free phone calls, free texting SMS on free number : 10,000,000+\n",
      "Phone Tracker : Family Locator : 10,000,000+\n",
      "HOLLA Live: Meet New People via Random Video Chat : 5,000,000+\n",
      "+Download 4 Instagram Twitter : 1,000,000+\n",
      "Hornet - Gay Social Network : 5,000,000+\n",
      "Amino: Communities and Chats : 10,000,000+\n",
      "EZ Video Download for Facebook : 1,000,000+\n",
      "Messages, Text and Video Chat for Messenger : 10,000,000+\n",
      "All Social Networks : 1,000,000+\n",
      "Messenger Messenger : 10,000,000+\n",
      "Facebook Creator : 1,000,000+\n",
      "Friendly for Facebook : 1,000,000+\n",
      "Faster for Facebook Lite : 1,000,000+\n",
      "Messenger : 10,000,000+\n",
      "Who Viewed My Facebook Profile - Stalkers Visitors : 5,000,000+\n",
      "Stickers for Facebook : 1,000,000+\n",
      "FunForMobile Ringtones & Chat : 5,000,000+\n",
      "Frim: get new friends on local chat rooms : 5,000,000+\n"
     ]
    }
   ],
   "source": [
    "for app in android_final:\n",
    "    genre = app[1]\n",
    "    if genre == 'SOCIAL' and (app[5] == '1,000,000+'\n",
    "                              or app[5] == '5,000,000+'\n",
    "                              or app[5] == '10,000,000+'\n",
    "                              or app[5] == '50,000,000+'):\n",
    "        print(app[0], ':', app[5])"
   ]
  },
  {
   "cell_type": "markdown",
   "id": "240d510d",
   "metadata": {},
   "source": [
    "This niche seems to be dominated by messaging apps, dating apps and apps that compliment large social media platforms. There's a lot of competition in these areas, so a new app would have to offer functionality or services that are unique.\n",
    "\n",
    "As we have seen that there are a number of successful of apps across both the Google Play and the App store that compliment existing social media platforms or offer dating service, a new app that combines both of these functionalities could be profitable on both stores.\n",
    "There also don't seem to be many apps that are directed towards social media dating.\n",
    "\n",
    "# Conclusions\n",
    "\n",
    "In this project our goal was to analyse data from the Apple App Store and Google Play Markets to help developers understand what type of free apps are likely to attract more users, and therefore generate more revenue through advertising.\n",
    "\n",
    "We concluded that an app that combines dating with a user's social media profiles could be profitable for both the Google Play and App Store markets. Or, alternatively, an app that adds functionality to a social media platform. These apps tend to attract a large number of users and even though there is a fair bit of competition, an app that provides a genuinely useful service will stand out."
   ]
  },
  {
   "cell_type": "code",
   "execution_count": null,
   "id": "40d55342",
   "metadata": {},
   "outputs": [],
   "source": []
  }
 ],
 "metadata": {
  "kernelspec": {
   "display_name": "Python 3",
   "language": "python",
   "name": "python3"
  },
  "language_info": {
   "codemirror_mode": {
    "name": "ipython",
    "version": 3
   },
   "file_extension": ".py",
   "mimetype": "text/x-python",
   "name": "python",
   "nbconvert_exporter": "python",
   "pygments_lexer": "ipython3",
   "version": "3.8.8"
  }
 },
 "nbformat": 4,
 "nbformat_minor": 5
}
